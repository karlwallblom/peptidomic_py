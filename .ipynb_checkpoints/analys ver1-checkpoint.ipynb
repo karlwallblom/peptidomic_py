{
 "cells": [
  {
   "cell_type": "code",
   "execution_count": 7,
   "metadata": {},
   "outputs": [],
   "source": [
    "import pandas as pd\n",
    "import matplotlib.pyplot as plt\n",
    "import os\n",
    "import xlrd\n",
    "import pathlib\n",
    "from pathlib import Path\n",
    "import re"
   ]
  },
  {
   "cell_type": "markdown",
   "metadata": {},
   "source": [
    "### Skapa en Data Frame utifrån excelfiler i en Mapp + ta bort duplikater"
   ]
  },
  {
   "cell_type": "code",
   "execution_count": 8,
   "metadata": {},
   "outputs": [],
   "source": [
    "### vilken mapp vill du kolla i?\n",
    "mapp = 'protein-peptide_sample_inf'\n",
    "## Skapar en lista över excelfilerna i mappen\n",
    "files = os.listdir(mapp)\n",
    "files_xls = [f for f in files if f[-3:] == 'lsx']\n",
    "files_xls\n",
    "## Läser in filerna 1 och 1 och appendar dom i df\n",
    "df = pd.DataFrame()\n",
    "for f in files_xls:\n",
    "    data = pd.read_excel(mapp + '/' + f)\n",
    "    ## Tar bort duplikat peptider eftersom protein-peptid filerna har duplicater inom t.ex hemoglobin\n",
    "    data.drop_duplicates(subset='Peptide', inplace=True, ignore_index=True)\n",
    "    df = df.append(data)"
   ]
  },
  {
   "cell_type": "markdown",
   "metadata": {},
   "source": [
    "### Formaterar Data Framen utifrån vilken fil den skapats utifrån"
   ]
  },
  {
   "cell_type": "code",
   "execution_count": 9,
   "metadata": {},
   "outputs": [
    {
     "data": {
      "text/html": [
       "<div>\n",
       "<style scoped>\n",
       "    .dataframe tbody tr th:only-of-type {\n",
       "        vertical-align: middle;\n",
       "    }\n",
       "\n",
       "    .dataframe tbody tr th {\n",
       "        vertical-align: top;\n",
       "    }\n",
       "\n",
       "    .dataframe thead th {\n",
       "        text-align: right;\n",
       "    }\n",
       "</style>\n",
       "<table border=\"1\" class=\"dataframe\">\n",
       "  <thead>\n",
       "    <tr style=\"text-align: right;\">\n",
       "      <th></th>\n",
       "      <th>Protein Accession</th>\n",
       "      <th>Peptide</th>\n",
       "      <th>Mass</th>\n",
       "      <th>Length</th>\n",
       "      <th>#Feature</th>\n",
       "      <th>-10lgP</th>\n",
       "      <th>Start</th>\n",
       "      <th>End</th>\n",
       "    </tr>\n",
       "  </thead>\n",
       "  <tbody>\n",
       "    <tr>\n",
       "      <th>0</th>\n",
       "      <td>sp|P69905|HBA_HUMAN</td>\n",
       "      <td>K.TNVKAAWGKVGAHAGEYGAEALERMFL.S</td>\n",
       "      <td>2875.4438</td>\n",
       "      <td>27</td>\n",
       "      <td>4</td>\n",
       "      <td>92.76</td>\n",
       "      <td>9</td>\n",
       "      <td>35</td>\n",
       "    </tr>\n",
       "    <tr>\n",
       "      <th>1</th>\n",
       "      <td>sp|P69905|HBA_HUMAN</td>\n",
       "      <td>K.TNVKAAWGKVGAHAGEYGAEALER.M</td>\n",
       "      <td>2484.2510</td>\n",
       "      <td>24</td>\n",
       "      <td>15</td>\n",
       "      <td>91.89</td>\n",
       "      <td>9</td>\n",
       "      <td>32</td>\n",
       "    </tr>\n",
       "    <tr>\n",
       "      <th>2</th>\n",
       "      <td>sp|P69905|HBA_HUMAN</td>\n",
       "      <td>K.AAWGKVGAHAGEYGAEALERMFL.S</td>\n",
       "      <td>2433.1899</td>\n",
       "      <td>23</td>\n",
       "      <td>4</td>\n",
       "      <td>91.79</td>\n",
       "      <td>13</td>\n",
       "      <td>35</td>\n",
       "    </tr>\n",
       "    <tr>\n",
       "      <th>3</th>\n",
       "      <td>sp|P69905|HBA_HUMAN</td>\n",
       "      <td>V.DDMPNALSALSDLHAHKLRVDPV.N</td>\n",
       "      <td>2513.2695</td>\n",
       "      <td>23</td>\n",
       "      <td>4</td>\n",
       "      <td>91.73</td>\n",
       "      <td>75</td>\n",
       "      <td>97</td>\n",
       "    </tr>\n",
       "    <tr>\n",
       "      <th>4</th>\n",
       "      <td>sp|P69905|HBA_HUMAN</td>\n",
       "      <td>M.VLSPADKTNVKAAWGKVGAHAGEYGAEALERMFL.S</td>\n",
       "      <td>3585.8401</td>\n",
       "      <td>34</td>\n",
       "      <td>9</td>\n",
       "      <td>90.15</td>\n",
       "      <td>2</td>\n",
       "      <td>35</td>\n",
       "    </tr>\n",
       "    <tr>\n",
       "      <th>...</th>\n",
       "      <td>...</td>\n",
       "      <td>...</td>\n",
       "      <td>...</td>\n",
       "      <td>...</td>\n",
       "      <td>...</td>\n",
       "      <td>...</td>\n",
       "      <td>...</td>\n",
       "      <td>...</td>\n",
       "    </tr>\n",
       "    <tr>\n",
       "      <th>4742</th>\n",
       "      <td>sp|P08603|CFAH_HUMAN</td>\n",
       "      <td>V.TAPENGKIV.S</td>\n",
       "      <td>927.5025</td>\n",
       "      <td>9</td>\n",
       "      <td>1</td>\n",
       "      <td>23.46</td>\n",
       "      <td>150</td>\n",
       "      <td>158</td>\n",
       "    </tr>\n",
       "    <tr>\n",
       "      <th>4743</th>\n",
       "      <td>sp|P06703|S10A6_HUMAN</td>\n",
       "      <td>K.LQDAEIAR.L</td>\n",
       "      <td>914.4821</td>\n",
       "      <td>8</td>\n",
       "      <td>2</td>\n",
       "      <td>25.16</td>\n",
       "      <td>48</td>\n",
       "      <td>55</td>\n",
       "    </tr>\n",
       "    <tr>\n",
       "      <th>4744</th>\n",
       "      <td>sp|P06703|S10A6_HUMAN</td>\n",
       "      <td>A.LIYNEALKG</td>\n",
       "      <td>1019.5651</td>\n",
       "      <td>9</td>\n",
       "      <td>1</td>\n",
       "      <td>21.63</td>\n",
       "      <td>82</td>\n",
       "      <td>90</td>\n",
       "    </tr>\n",
       "    <tr>\n",
       "      <th>4745</th>\n",
       "      <td>sp|Q7KZ85|SPT6H_HUMAN</td>\n",
       "      <td>S.HQVQEWNRQRTMAIER.A</td>\n",
       "      <td>2081.0337</td>\n",
       "      <td>16</td>\n",
       "      <td>0</td>\n",
       "      <td>24.38</td>\n",
       "      <td>700</td>\n",
       "      <td>715</td>\n",
       "    </tr>\n",
       "    <tr>\n",
       "      <th>4746</th>\n",
       "      <td>sp|Q7KZ85|SPT6H_HUMAN</td>\n",
       "      <td>F.IN(+.98)RVN(+.98)EVGVDVNR.A</td>\n",
       "      <td>1484.7583</td>\n",
       "      <td>13</td>\n",
       "      <td>2</td>\n",
       "      <td>22.92</td>\n",
       "      <td>963</td>\n",
       "      <td>975</td>\n",
       "    </tr>\n",
       "  </tbody>\n",
       "</table>\n",
       "<p>10900 rows × 8 columns</p>\n",
       "</div>"
      ],
      "text/plain": [
       "          Protein Accession                                 Peptide  \\\n",
       "0       sp|P69905|HBA_HUMAN         K.TNVKAAWGKVGAHAGEYGAEALERMFL.S   \n",
       "1       sp|P69905|HBA_HUMAN            K.TNVKAAWGKVGAHAGEYGAEALER.M   \n",
       "2       sp|P69905|HBA_HUMAN             K.AAWGKVGAHAGEYGAEALERMFL.S   \n",
       "3       sp|P69905|HBA_HUMAN             V.DDMPNALSALSDLHAHKLRVDPV.N   \n",
       "4       sp|P69905|HBA_HUMAN  M.VLSPADKTNVKAAWGKVGAHAGEYGAEALERMFL.S   \n",
       "...                     ...                                     ...   \n",
       "4742   sp|P08603|CFAH_HUMAN                           V.TAPENGKIV.S   \n",
       "4743  sp|P06703|S10A6_HUMAN                            K.LQDAEIAR.L   \n",
       "4744  sp|P06703|S10A6_HUMAN                             A.LIYNEALKG   \n",
       "4745  sp|Q7KZ85|SPT6H_HUMAN                    S.HQVQEWNRQRTMAIER.A   \n",
       "4746  sp|Q7KZ85|SPT6H_HUMAN           F.IN(+.98)RVN(+.98)EVGVDVNR.A   \n",
       "\n",
       "           Mass  Length  #Feature  -10lgP  Start  End  \n",
       "0     2875.4438      27         4   92.76      9   35  \n",
       "1     2484.2510      24        15   91.89      9   32  \n",
       "2     2433.1899      23         4   91.79     13   35  \n",
       "3     2513.2695      23         4   91.73     75   97  \n",
       "4     3585.8401      34         9   90.15      2   35  \n",
       "...         ...     ...       ...     ...    ...  ...  \n",
       "4742   927.5025       9         1   23.46    150  158  \n",
       "4743   914.4821       8         2   25.16     48   55  \n",
       "4744  1019.5651       9         1   21.63     82   90  \n",
       "4745  2081.0337      16         0   24.38    700  715  \n",
       "4746  1484.7583      13         2   22.92    963  975  \n",
       "\n",
       "[10900 rows x 8 columns]"
      ]
     },
     "execution_count": 9,
     "metadata": {},
     "output_type": "execute_result"
    }
   ],
   "source": [
    "## Vad för typ av fil hanterar du? (vilka kolummner önskas ha kvar)\n",
    "peptide = ['Accession', 'Peptide', 'Mass', 'Length', '#Feature', '-10lgP']\n",
    "protein = ['Protein Accession', 'Peptide', 'Mass', 'Length', '#Feature', '-10lgP', 'Start', 'End']\n",
    "## Formatera dataframen ändra [] för att byta formatering\n",
    "df = df[protein]\n",
    "df"
   ]
  },
  {
   "cell_type": "markdown",
   "metadata": {},
   "source": [
    "### Tar bort modifikations information från Peptidkolumnen + skapa Count kolummn + Feature cutoff, OBS, finns nu alltså duplikater igen!!"
   ]
  },
  {
   "cell_type": "code",
   "execution_count": 11,
   "metadata": {},
   "outputs": [
    {
     "name": "stderr",
     "output_type": "stream",
     "text": [
      "<ipython-input-11-ab1a45aaaf10>:2: SettingWithCopyWarning: \n",
      "A value is trying to be set on a copy of a slice from a DataFrame.\n",
      "Try using .loc[row_indexer,col_indexer] = value instead\n",
      "\n",
      "See the caveats in the documentation: https://pandas.pydata.org/pandas-docs/stable/user_guide/indexing.html#returning-a-view-versus-a-copy\n",
      "  df['Peptide'] = df['Peptide'].str.replace('[^a-zA-Z]', '')\n"
     ]
    },
    {
     "ename": "ValueError",
     "evalue": "cannot insert count, already exists",
     "output_type": "error",
     "traceback": [
      "\u001b[1;31m---------------------------------------------------------------------------\u001b[0m",
      "\u001b[1;31mValueError\u001b[0m                                Traceback (most recent call last)",
      "\u001b[1;32m<ipython-input-11-ab1a45aaaf10>\u001b[0m in \u001b[0;36m<module>\u001b[1;34m\u001b[0m\n\u001b[0;32m      4\u001b[0m \u001b[0mdf\u001b[0m \u001b[1;33m=\u001b[0m \u001b[0mdf\u001b[0m\u001b[1;33m.\u001b[0m\u001b[0mloc\u001b[0m\u001b[1;33m[\u001b[0m\u001b[1;33m(\u001b[0m\u001b[0mdf\u001b[0m\u001b[1;33m[\u001b[0m\u001b[1;34m'#Feature'\u001b[0m\u001b[1;33m]\u001b[0m \u001b[1;33m>=\u001b[0m \u001b[1;36m4\u001b[0m\u001b[1;33m)\u001b[0m\u001b[1;33m]\u001b[0m\u001b[1;33m\u001b[0m\u001b[1;33m\u001b[0m\u001b[0m\n\u001b[0;32m      5\u001b[0m \u001b[1;31m## Skapa column \"count\"\u001b[0m\u001b[1;33m\u001b[0m\u001b[1;33m\u001b[0m\u001b[1;33m\u001b[0m\u001b[0m\n\u001b[1;32m----> 6\u001b[1;33m \u001b[0mdf\u001b[0m\u001b[1;33m.\u001b[0m\u001b[0minsert\u001b[0m\u001b[1;33m(\u001b[0m\u001b[1;36m5\u001b[0m\u001b[1;33m,\u001b[0m\u001b[1;34m'count'\u001b[0m\u001b[1;33m,\u001b[0m \u001b[1;36m1\u001b[0m\u001b[1;33m)\u001b[0m\u001b[1;33m\u001b[0m\u001b[1;33m\u001b[0m\u001b[0m\n\u001b[0m\u001b[0;32m      7\u001b[0m \u001b[0mdf\u001b[0m\u001b[1;33m\u001b[0m\u001b[1;33m\u001b[0m\u001b[0m\n",
      "\u001b[1;32m~\\anaconda3\\envs\\pandas2\\lib\\site-packages\\pandas\\core\\frame.py\u001b[0m in \u001b[0;36minsert\u001b[1;34m(self, loc, column, value, allow_duplicates)\u001b[0m\n\u001b[0;32m   3494\u001b[0m         \u001b[0mself\u001b[0m\u001b[1;33m.\u001b[0m\u001b[0m_ensure_valid_index\u001b[0m\u001b[1;33m(\u001b[0m\u001b[0mvalue\u001b[0m\u001b[1;33m)\u001b[0m\u001b[1;33m\u001b[0m\u001b[1;33m\u001b[0m\u001b[0m\n\u001b[0;32m   3495\u001b[0m         \u001b[0mvalue\u001b[0m \u001b[1;33m=\u001b[0m \u001b[0mself\u001b[0m\u001b[1;33m.\u001b[0m\u001b[0m_sanitize_column\u001b[0m\u001b[1;33m(\u001b[0m\u001b[0mcolumn\u001b[0m\u001b[1;33m,\u001b[0m \u001b[0mvalue\u001b[0m\u001b[1;33m,\u001b[0m \u001b[0mbroadcast\u001b[0m\u001b[1;33m=\u001b[0m\u001b[1;32mFalse\u001b[0m\u001b[1;33m)\u001b[0m\u001b[1;33m\u001b[0m\u001b[1;33m\u001b[0m\u001b[0m\n\u001b[1;32m-> 3496\u001b[1;33m         \u001b[0mself\u001b[0m\u001b[1;33m.\u001b[0m\u001b[0m_data\u001b[0m\u001b[1;33m.\u001b[0m\u001b[0minsert\u001b[0m\u001b[1;33m(\u001b[0m\u001b[0mloc\u001b[0m\u001b[1;33m,\u001b[0m \u001b[0mcolumn\u001b[0m\u001b[1;33m,\u001b[0m \u001b[0mvalue\u001b[0m\u001b[1;33m,\u001b[0m \u001b[0mallow_duplicates\u001b[0m\u001b[1;33m=\u001b[0m\u001b[0mallow_duplicates\u001b[0m\u001b[1;33m)\u001b[0m\u001b[1;33m\u001b[0m\u001b[1;33m\u001b[0m\u001b[0m\n\u001b[0m\u001b[0;32m   3497\u001b[0m \u001b[1;33m\u001b[0m\u001b[0m\n\u001b[0;32m   3498\u001b[0m     \u001b[1;32mdef\u001b[0m \u001b[0massign\u001b[0m\u001b[1;33m(\u001b[0m\u001b[0mself\u001b[0m\u001b[1;33m,\u001b[0m \u001b[1;33m**\u001b[0m\u001b[0mkwargs\u001b[0m\u001b[1;33m)\u001b[0m \u001b[1;33m->\u001b[0m \u001b[1;34m\"DataFrame\"\u001b[0m\u001b[1;33m:\u001b[0m\u001b[1;33m\u001b[0m\u001b[1;33m\u001b[0m\u001b[0m\n",
      "\u001b[1;32m~\\anaconda3\\envs\\pandas2\\lib\\site-packages\\pandas\\core\\internals\\managers.py\u001b[0m in \u001b[0;36minsert\u001b[1;34m(self, loc, item, value, allow_duplicates)\u001b[0m\n\u001b[0;32m   1171\u001b[0m         \u001b[1;32mif\u001b[0m \u001b[1;32mnot\u001b[0m \u001b[0mallow_duplicates\u001b[0m \u001b[1;32mand\u001b[0m \u001b[0mitem\u001b[0m \u001b[1;32min\u001b[0m \u001b[0mself\u001b[0m\u001b[1;33m.\u001b[0m\u001b[0mitems\u001b[0m\u001b[1;33m:\u001b[0m\u001b[1;33m\u001b[0m\u001b[1;33m\u001b[0m\u001b[0m\n\u001b[0;32m   1172\u001b[0m             \u001b[1;31m# Should this be a different kind of error??\u001b[0m\u001b[1;33m\u001b[0m\u001b[1;33m\u001b[0m\u001b[1;33m\u001b[0m\u001b[0m\n\u001b[1;32m-> 1173\u001b[1;33m             \u001b[1;32mraise\u001b[0m \u001b[0mValueError\u001b[0m\u001b[1;33m(\u001b[0m\u001b[1;34mf\"cannot insert {item}, already exists\"\u001b[0m\u001b[1;33m)\u001b[0m\u001b[1;33m\u001b[0m\u001b[1;33m\u001b[0m\u001b[0m\n\u001b[0m\u001b[0;32m   1174\u001b[0m \u001b[1;33m\u001b[0m\u001b[0m\n\u001b[0;32m   1175\u001b[0m         \u001b[1;32mif\u001b[0m \u001b[1;32mnot\u001b[0m \u001b[0misinstance\u001b[0m\u001b[1;33m(\u001b[0m\u001b[0mloc\u001b[0m\u001b[1;33m,\u001b[0m \u001b[0mint\u001b[0m\u001b[1;33m)\u001b[0m\u001b[1;33m:\u001b[0m\u001b[1;33m\u001b[0m\u001b[1;33m\u001b[0m\u001b[0m\n",
      "\u001b[1;31mValueError\u001b[0m: cannot insert count, already exists"
     ]
    }
   ],
   "source": [
    "## Tar bort allt ur kolummn som inte är bokstäver\n",
    "df['Peptide'] = df['Peptide'].str.replace('[^a-zA-Z]', '')\n",
    "## sortera bort om feature<4\n",
    "df = df.loc[(df['#Feature'] >= 4)] \n",
    "## Skapa column \"count\"\n",
    "df.insert(5,'count', 1)\n",
    "df"
   ]
  },
  {
   "cell_type": "markdown",
   "metadata": {},
   "source": [
    "### Skapa en ny Data Frame med de peptider som endast finns i alla (df_same)"
   ]
  },
  {
   "cell_type": "code",
   "execution_count": 6,
   "metadata": {},
   "outputs": [
    {
     "ename": "KeyError",
     "evalue": "'count'",
     "output_type": "error",
     "traceback": [
      "\u001b[1;31m---------------------------------------------------------------------------\u001b[0m",
      "\u001b[1;31mKeyError\u001b[0m                                  Traceback (most recent call last)",
      "\u001b[1;32m<ipython-input-6-7cdc709cb72c>\u001b[0m in \u001b[0;36m<module>\u001b[1;34m\u001b[0m\n\u001b[0;32m      6\u001b[0m \u001b[0mdf_same\u001b[0m \u001b[1;33m=\u001b[0m \u001b[0mdf_same\u001b[0m\u001b[1;33m.\u001b[0m\u001b[0mgroupby\u001b[0m\u001b[1;33m(\u001b[0m\u001b[1;33m[\u001b[0m\u001b[1;34m'Peptide'\u001b[0m\u001b[1;33m]\u001b[0m\u001b[1;33m,\u001b[0m \u001b[0mas_index\u001b[0m\u001b[1;33m=\u001b[0m\u001b[1;32mFalse\u001b[0m\u001b[1;33m)\u001b[0m\u001b[1;33m.\u001b[0m\u001b[0msum\u001b[0m\u001b[1;33m(\u001b[0m\u001b[1;33m)\u001b[0m\u001b[1;33m\u001b[0m\u001b[1;33m\u001b[0m\u001b[0m\n\u001b[0;32m      7\u001b[0m \u001b[1;31m## Sortera efter count\u001b[0m\u001b[1;33m\u001b[0m\u001b[1;33m\u001b[0m\u001b[1;33m\u001b[0m\u001b[0m\n\u001b[1;32m----> 8\u001b[1;33m \u001b[0mdf_same\u001b[0m \u001b[1;33m=\u001b[0m \u001b[0mdf_same\u001b[0m\u001b[1;33m.\u001b[0m\u001b[0msort_values\u001b[0m\u001b[1;33m(\u001b[0m\u001b[0mby\u001b[0m\u001b[1;33m=\u001b[0m\u001b[1;33m[\u001b[0m\u001b[1;34m'count'\u001b[0m\u001b[1;33m]\u001b[0m\u001b[1;33m,\u001b[0m \u001b[0maxis\u001b[0m\u001b[1;33m=\u001b[0m\u001b[1;36m0\u001b[0m\u001b[1;33m,\u001b[0m \u001b[0mascending\u001b[0m\u001b[1;33m=\u001b[0m\u001b[1;32mFalse\u001b[0m\u001b[1;33m)\u001b[0m\u001b[1;33m\u001b[0m\u001b[1;33m\u001b[0m\u001b[0m\n\u001b[0m\u001b[0;32m      9\u001b[0m \u001b[1;33m\u001b[0m\u001b[0m\n\u001b[0;32m     10\u001b[0m \u001b[1;31m## OBS!! måste ändra till rätt filantal! (Skapa nytt dataset med endast count 3 (denna har alltså funnits i alla filer = same))\u001b[0m\u001b[1;33m\u001b[0m\u001b[1;33m\u001b[0m\u001b[1;33m\u001b[0m\u001b[0m\n",
      "\u001b[1;32m~\\anaconda3\\envs\\pandas2\\lib\\site-packages\\pandas\\core\\frame.py\u001b[0m in \u001b[0;36msort_values\u001b[1;34m(self, by, axis, ascending, inplace, kind, na_position, ignore_index)\u001b[0m\n\u001b[0;32m   4925\u001b[0m \u001b[1;33m\u001b[0m\u001b[0m\n\u001b[0;32m   4926\u001b[0m             \u001b[0mby\u001b[0m \u001b[1;33m=\u001b[0m \u001b[0mby\u001b[0m\u001b[1;33m[\u001b[0m\u001b[1;36m0\u001b[0m\u001b[1;33m]\u001b[0m\u001b[1;33m\u001b[0m\u001b[1;33m\u001b[0m\u001b[0m\n\u001b[1;32m-> 4927\u001b[1;33m             \u001b[0mk\u001b[0m \u001b[1;33m=\u001b[0m \u001b[0mself\u001b[0m\u001b[1;33m.\u001b[0m\u001b[0m_get_label_or_level_values\u001b[0m\u001b[1;33m(\u001b[0m\u001b[0mby\u001b[0m\u001b[1;33m,\u001b[0m \u001b[0maxis\u001b[0m\u001b[1;33m=\u001b[0m\u001b[0maxis\u001b[0m\u001b[1;33m)\u001b[0m\u001b[1;33m\u001b[0m\u001b[1;33m\u001b[0m\u001b[0m\n\u001b[0m\u001b[0;32m   4928\u001b[0m \u001b[1;33m\u001b[0m\u001b[0m\n\u001b[0;32m   4929\u001b[0m             \u001b[1;32mif\u001b[0m \u001b[0misinstance\u001b[0m\u001b[1;33m(\u001b[0m\u001b[0mascending\u001b[0m\u001b[1;33m,\u001b[0m \u001b[1;33m(\u001b[0m\u001b[0mtuple\u001b[0m\u001b[1;33m,\u001b[0m \u001b[0mlist\u001b[0m\u001b[1;33m)\u001b[0m\u001b[1;33m)\u001b[0m\u001b[1;33m:\u001b[0m\u001b[1;33m\u001b[0m\u001b[1;33m\u001b[0m\u001b[0m\n",
      "\u001b[1;32m~\\anaconda3\\envs\\pandas2\\lib\\site-packages\\pandas\\core\\generic.py\u001b[0m in \u001b[0;36m_get_label_or_level_values\u001b[1;34m(self, key, axis)\u001b[0m\n\u001b[0;32m   1690\u001b[0m             \u001b[0mvalues\u001b[0m \u001b[1;33m=\u001b[0m \u001b[0mself\u001b[0m\u001b[1;33m.\u001b[0m\u001b[0maxes\u001b[0m\u001b[1;33m[\u001b[0m\u001b[0maxis\u001b[0m\u001b[1;33m]\u001b[0m\u001b[1;33m.\u001b[0m\u001b[0mget_level_values\u001b[0m\u001b[1;33m(\u001b[0m\u001b[0mkey\u001b[0m\u001b[1;33m)\u001b[0m\u001b[1;33m.\u001b[0m\u001b[0m_values\u001b[0m\u001b[1;33m\u001b[0m\u001b[1;33m\u001b[0m\u001b[0m\n\u001b[0;32m   1691\u001b[0m         \u001b[1;32melse\u001b[0m\u001b[1;33m:\u001b[0m\u001b[1;33m\u001b[0m\u001b[1;33m\u001b[0m\u001b[0m\n\u001b[1;32m-> 1692\u001b[1;33m             \u001b[1;32mraise\u001b[0m \u001b[0mKeyError\u001b[0m\u001b[1;33m(\u001b[0m\u001b[0mkey\u001b[0m\u001b[1;33m)\u001b[0m\u001b[1;33m\u001b[0m\u001b[1;33m\u001b[0m\u001b[0m\n\u001b[0m\u001b[0;32m   1693\u001b[0m \u001b[1;33m\u001b[0m\u001b[0m\n\u001b[0;32m   1694\u001b[0m         \u001b[1;31m# Check for duplicates\u001b[0m\u001b[1;33m\u001b[0m\u001b[1;33m\u001b[0m\u001b[1;33m\u001b[0m\u001b[0m\n",
      "\u001b[1;31mKeyError\u001b[0m: 'count'"
     ]
    }
   ],
   "source": [
    "## Skapa en DataFrame av de som endast finns i alla\n",
    "df_same = pd.DataFrame()\n",
    "df_same = df\n",
    "\n",
    "## Gruppera efter Peptide och summera siffror (mergear duplikater)\n",
    "df_same = df_same.groupby(['Peptide'], as_index=False).sum()\n",
    "## Sortera efter count\n",
    "df_same = df_same.sort_values(by=['count'], axis=0, ascending=False)\n",
    "\n",
    "## OBS!! måste ändra till rätt filantal! (Skapa nytt dataset med endast count 3 (denna har alltså funnits i alla filer = same))\n",
    "df_same = df_same.loc[df_same['count'] == 3] \n",
    "\n",
    "## endast de peptider som finns i alla\n",
    "df_same"
   ]
  },
  {
   "cell_type": "markdown",
   "metadata": {},
   "source": [
    "### Skapar kolummner för N-cut och C-cut + delar Mass, Length, RT på count"
   ]
  },
  {
   "cell_type": "code",
   "execution_count": null,
   "metadata": {},
   "outputs": [],
   "source": [
    "df['N-cut']=df['Peptide'].apply(lambda x: x[0:4])\n",
    "df['C-cut']=df['Peptide'].apply(lambda x: x[-4::1])\n",
    "df['Mass']=df['Mass']/df['count']\n",
    "df['Length']=df['Length']/df['count']\n",
    "df['RT']=df['RT']/df['count']\n",
    "df = df.sort_values(['count','#Feature'], ascending=False)\n",
    "df"
   ]
  },
  {
   "cell_type": "markdown",
   "metadata": {},
   "source": [
    "### Skapar nya Data Frames för Peptiderna utifrån cutsite"
   ]
  },
  {
   "cell_type": "code",
   "execution_count": null,
   "metadata": {},
   "outputs": [],
   "source": [
    "#Here we sort on the C and N-cut\n",
    "df_N=df.groupby(['Accession', 'N-cut']).sum()\n",
    "df_N['Mass']=df_N['Mass']/df_N['count']\n",
    "df_N['Length']=df_N['Length']/df_N['count']\n",
    "df_N['RT']=df_N['RT']/df_N['count']\n",
    "df_N=df_N.sort_values(['count'], ascending=False)\n",
    "\n",
    "#sorted by accession and then C-cut. KGEE is found 48 times in APOC2\n",
    "df_C=df.groupby(['Accession', 'C-cut']).sum()\n",
    "df_C['Mass']=df_C['Mass']/df_C['count']\n",
    "df_C['Length']=df_C['Length']/df_C['count']\n",
    "df_C['RT']=df_C['RT']/df_C['count']\n",
    "df_C=df_C.sort_values(['count'], ascending=False)\n",
    "\n",
    "df_N.head()"
   ]
  },
  {
   "cell_type": "markdown",
   "metadata": {},
   "source": [
    "### Skapar nya Data Frames för Peptiderna grupperade(df_N, df_C)"
   ]
  },
  {
   "cell_type": "code",
   "execution_count": null,
   "metadata": {},
   "outputs": [],
   "source": [
    "df_N= df.groupby(['Accession','N-cut']).sum() #groups original DataFrame by protein and n-cut. Makes protein and cut indexes\n",
    "df_N = df_N.sort_values(['count','#Feature'], ascending=False) #sorts these values by count and feature\n",
    "df_N.reset_index(['Accession'], inplace=True) #removes protein from index, only cut left\n",
    "df_N['N-grouped']=group(df_N.index) #creates column of N-grouped based on index, cut\n",
    "\n",
    "df_N=df_N.groupby(['N-grouped']).sum() #groups by N-grouped instead\n",
    "\n",
    "df_N['Mass']=df_N['Mass']/df_N['count'] #this is fucked\n",
    "df_N['Length']=df_N['Length']/df_N['count'] \n",
    "df_N['RT']=df_N['RT']/df_N['count']\n",
    "\n",
    "df_N=df_N.sort_values(['count','#Feature'], ascending=False) #sorts the grouped index on count and feature\n",
    "\n",
    "df_C = df.groupby(['Accession','C-cut']).sum() \n",
    "df_C = df_C.sort_values(['count','#Feature'], ascending=False)\n",
    "df_C.reset_index(['Accession'], inplace=True)\n",
    "df_C['C-grouped']=group(df_C.index)\n",
    "\n",
    "df_C=df_C.groupby(['C-grouped']).sum()\n",
    "\n",
    "df_C['Mass']=df_C['Mass']/df_C['count']\n",
    "df_C['Length']=df_C['Length']/df_C['count']\n",
    "df_C['RT']=df_C['RT']/df_C['count']\n",
    "\n",
    "df_C=df_C.sort_values(['count','#Feature'], ascending=False)\n",
    "df_N"
   ]
  }
 ],
 "metadata": {
  "kernelspec": {
   "display_name": "Python 3",
   "language": "python",
   "name": "python3"
  },
  "language_info": {
   "codemirror_mode": {
    "name": "ipython",
    "version": 3
   },
   "file_extension": ".py",
   "mimetype": "text/x-python",
   "name": "python",
   "nbconvert_exporter": "python",
   "pygments_lexer": "ipython3",
   "version": "3.8.3"
  }
 },
 "nbformat": 4,
 "nbformat_minor": 4
}

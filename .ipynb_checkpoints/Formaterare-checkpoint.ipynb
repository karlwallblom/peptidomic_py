{
 "cells": [
  {
   "cell_type": "markdown",
   "metadata": {},
   "source": [
    "### Formaterare Peptigram"
   ]
  },
  {
   "cell_type": "code",
   "execution_count": null,
   "metadata": {},
   "outputs": [],
   "source": [
    "### vilken mapp vill du kolla i? INF\n",
    "## Skapar en lista över excelfilerna i mappen\n",
    "files = os.listdir('protein-peptide_sample_inf')\n",
    "files_xls = [f for f in files if f[-3:] == 'lsx']\n",
    "## Läser in filerna 1 och 1 och appendar dom i df_inf\n",
    "df_inf = pd.DataFrame()\n",
    "for f in files_xls:\n",
    "    data = pd.read_excel('protein-peptide_sample_inf' + '/' + f)\n",
    "    ## sortera bort om feature<4\n",
    "    data = data.loc[(data['#Feature'] >= 4)]\n",
    "    ## Tar bort allt ur kolummn som inte är bokstäver + ta bort upp och nedströms AA\n",
    "    data['Peptide']= data['Peptide'].str.replace('\\d+', '')\n",
    "    data['Peptide']= data['Peptide'].str.replace(r'\\(\\+\\.\\)', '')\n",
    "    data['Peptide']= data['Peptide'].apply(lambda x: x.split('.')[1] if x[1]=='.' else x.split('.')[0] if (x[1]!='.' and x[-2]=='.') else x)\n",
    "    data['count'] = 1\n",
    "    ## Summerar Peptides, sparar protein info\n",
    "    data = data.groupby(by=['Peptide', 'Protein Accession'], as_index=False).sum()\n",
    "    data['End'] = data['End']/ data['count']\n",
    "    data['Start'] = data['Start']/ data['count']\n",
    "    df_inf = df_inf.append(data)\n",
    "    \n",
    "df_inf['count']=1\n",
    "df_inf.reset_index(inplace=True, drop=True)\n",
    "\n",
    "### vilken mapp vill du kolla i? NINF\n",
    "## Skapar en lista över excelfilerna i mappen\n",
    "files = os.listdir('protein-peptide_sample_ninf')\n",
    "files_xls = [f for f in files if f[-3:] == 'lsx']\n",
    "## Läser in filerna 1 och 1 och appendar dom i df_ninf\n",
    "df_ninf = pd.DataFrame()\n",
    "for f in files_xls:\n",
    "    data = pd.read_excel('protein-peptide_sample_ninf' + '/' + f)\n",
    "    ## sortera bort om feature<4\n",
    "    data = data.loc[(data['#Feature'] >= 4)]\n",
    "    ## Tar bort allt ur kolummn som inte är bokstäver + ta bort upp och nedströms AA\n",
    "    data['Peptide']= data['Peptide'].str.replace('\\d+', '')\n",
    "    data['Peptide']= data['Peptide'].str.replace(r'\\(\\+\\.\\)', '')\n",
    "    data['Peptide']= data['Peptide'].apply(lambda x: x.split('.')[1] if x[1]=='.' else x.split('.')[0] if (x[1]!='.' and x[-2]=='.') else x)\n",
    "    data['count'] = 1\n",
    "    ## Summerar Peptides, sparar protein info\n",
    "    data = data.groupby(by=['Peptide', 'Protein Accession'], as_index=False).sum()\n",
    "    data['End'] = data['End']/ data['count']\n",
    "    data['Start'] = data['Start']/ data['count']\n",
    "    df_ninf = df_ninf.append(data)\n",
    "    \n",
    "df_ninf['count']=1\n",
    "df_ninf.reset_index(inplace=True, drop=True)\n",
    "\n",
    "### vilken mapp vill du kolla i? WF\n",
    "## Skapar en lista över excelfilerna i mappen\n",
    "files = os.listdir('protein-peptide_sample_wf')\n",
    "files_xls = [f for f in files if f[-3:] == 'lsx']\n",
    "## Läser in filerna 1 och 1 och appendar dom i df_WF\n",
    "df_WF = pd.DataFrame()\n",
    "for f in files_xls:\n",
    "    data = pd.read_excel('protein-peptide_sample_wf' + '/' + f)\n",
    "    ## sortera bort om feature<4\n",
    "    data = data.loc[(data['#Feature'] >= 4)]\n",
    "    data['Peptide']= data['Peptide'].str.replace('\\d+', '')\n",
    "    data['Peptide']= data['Peptide'].str.replace(r'\\(\\+\\.\\)', '')\n",
    "    data['Peptide']= data['Peptide'].apply(lambda x: x.split('.')[1] if x[1]=='.' else x.split('.')[0] if (x[1]!='.' and x[-2]=='.') else x)\n",
    "    data['count']=1\n",
    "    ## Tar bort allt ur kolummn som inte är bokstäver + ta bort upp och nedströms AA\n",
    "    #data['Peptide'] = data['Peptide'].str.replace('[^a-zA-Z]', '')\n",
    "    #data['End'] = data['End'].apply(lambda x: x[1:len(x):1] if x==100 else x[1:len(x)-1:1])\n",
    "    ## Summerar Peptides, sparar protein info\n",
    "    data = data.groupby(by=['Peptide', 'Protein Accession'], as_index=False).sum()\n",
    "    data['End'] = data['End']/ data['count']\n",
    "    data['Start'] = data['Start']/ data['count']\n",
    "    df_WF = df_WF.append(data)\n",
    "    \n",
    "df_WF['count']=1\n",
    "df_WF.reset_index(inplace=True, drop=True)\n",
    "df_WF"
   ]
  },
  {
   "cell_type": "code",
   "execution_count": null,
   "metadata": {},
   "outputs": [],
   "source": [
    "## Vad för typ av fil hanterar du? (vilka kolummner önskas ha kvar)\n",
    "peptide = ['Accession', 'Peptide', 'Mass', 'Length', '#Feature', '-10lgP']\n",
    "protein = ['Protein Accession', 'Peptide', '#Feature', 'Start', 'End', 'count']\n",
    "## Formatera dataframen ändra [] för att byta formatering\n",
    "df_inf = df_inf[protein]\n",
    "\n",
    "## Summerar Peptides, sparar protein info\n",
    "df_inf = df_inf.groupby(by=['Peptide', 'Protein Accession'], as_index=False).sum()\n",
    "df_inf['End'] = df_inf['End']/ df_inf['count']\n",
    "df_inf['Start'] = df_inf['Start']/ df_inf['count']\n",
    "df_inf[['End', 'Start']] = df_inf[['End', 'Start']].round(decimals=0)\n",
    "df_inf['#Feature'] = df_inf['#Feature']/ 3\n",
    "# # Spara endast kort Protein Accession\n",
    "df_inf['Protein Accession'] = df_inf['Protein Accession'].map(lambda x: str(x[3:]) )\n",
    "df_inf['Protein Accession'] = df_inf['Protein Accession'].str[:6]\n",
    "# # Välja hur outputfilen ska bli\n",
    "df_inf = df_inf[['Peptide', 'Protein Accession', 'Start', 'End', '#Feature']]\n",
    "df_inf.sort_values(['#Feature'], ascending=False)\n",
    "## Välja vilket protein som det ska göra peptigram på\n",
    "df_temp = df_inf\n",
    "df_temp = df_inf.loc[df_inf['Protein Accession'] == 'P68871']\n",
    "## döpa om kolummnerna\n",
    "df_temp.rename(columns={'Peptide' : 'Peptide', \"Protein Accession\":\"UniProt id\" ,\"Start\" : \"Start position\", 'End': 'End position', '#Feature' : 'Intensity 1'}, inplace=True)\n",
    "## Döpa output filen\n",
    "df_temp.to_csv('peptigram_HBB_tot-inf.csv', index=False)\n",
    "df_temp"
   ]
  },
  {
   "cell_type": "markdown",
   "metadata": {},
   "source": [
    "### Formaterare Proteasix"
   ]
  },
  {
   "cell_type": "code",
   "execution_count": null,
   "metadata": {},
   "outputs": [],
   "source": [
    "### vilken mapp vill du kolla i? INF\n",
    "## Skapar en lista över excelfilerna i mappen\n",
    "files = os.listdir('protein-peptide_sample_inf')\n",
    "files_xls = [f for f in files if f[-3:] == 'lsx']\n",
    "## Läser in filerna 1 och 1 och appendar dom i df_inf\n",
    "df_inf = pd.DataFrame()\n",
    "for f in files_xls:\n",
    "    data = pd.read_excel('protein-peptide_sample_inf' + '/' + f)\n",
    "    ## sortera bort om feature<4\n",
    "    data = data.loc[(data['#Feature'] >= 4)]\n",
    "    ## Tar bort allt ur kolummn som inte är bokstäver + ta bort upp och nedströms AA\n",
    "    data['Peptide']= data['Peptide'].str.replace('\\d+', '')\n",
    "    data['Peptide']= data['Peptide'].str.replace(r'\\(\\+\\.\\)', '')\n",
    "    data['Peptide']= data['Peptide'].apply(lambda x: x.split('.')[1] if x[1]=='.' else x.split('.')[0] if (x[1]!='.' and x[-2]=='.') else x)\n",
    "    data['count'] = 1\n",
    "    ## Summerar Peptides, sparar protein info\n",
    "    data = data.groupby(by=['Peptide', 'Protein Accession'], as_index=False).sum()\n",
    "    data['End'] = data['End']/ data['count']\n",
    "    data['Start'] = data['Start']/ data['count']\n",
    "    ## ta bort duplikater om ej enstaka protein ska analyseras\n",
    "    data = data.drop_duplicates('Peptide')\n",
    "    df_inf = df_inf.append(data)\n",
    "    \n",
    "df_inf['count']=1\n",
    "df_inf.reset_index(inplace=True, drop=True)"
   ]
  },
  {
   "cell_type": "code",
   "execution_count": null,
   "metadata": {},
   "outputs": [],
   "source": [
    "## Välja vad som ska analyseras!!\n",
    "#df_inf= df_inf.loc[(df_inf['Protein Accession'] == 'sp|P68871|HBB_HUMAN')]\n",
    "# region=111\n",
    "# df_inf= df_inf.loc[(df_inf['Start'] >= region)]\n",
    "\n",
    "df_inf = df_inf[['Protein Accession','Start','End','Peptide', '#Feature']]\n",
    "## Spara endast kort Protein Accession\n",
    "df_inf['Protein Accession'] = df_inf['Protein Accession'].map(lambda x: str(x[3:]) )\n",
    "df_inf['Protein Accession'] = df_inf['Protein Accession'].str[:6]\n",
    "df_inf.reset_index(inplace=True, drop=True)\n",
    "df_inf['count']=1\n",
    "df_inf = df_inf.groupby(by=['Peptide','Protein Accession'], as_index=False).sum()\n",
    "df_inf['End']=df_inf['End']/df_inf['count']\n",
    "df_inf['Start']=df_inf['Start']/df_inf['count']\n",
    "df_inf=df_inf.drop(columns='count')\n",
    "df_inf.sort_values(['#Feature'], ascending=False)\n",
    "df_inf_csv=df_inf.copy()\n",
    "df_inf_csv = df_inf_csv[['Protein Accession', 'Start','End']]\n",
    "df_inf_csv.to_csv('proteasix_tot-inf.csv', sep='\\t')"
   ]
  },
  {
   "cell_type": "markdown",
   "metadata": {},
   "source": [
    "### Analys the results from proteasix"
   ]
  },
  {
   "cell_type": "code",
   "execution_count": null,
   "metadata": {},
   "outputs": [],
   "source": [
    "df_pro = pd.read_excel('proteasix_data.xlsx','inf_tot')\n",
    "df_pro['Start'] = df_pro['Start amino acid']\n",
    "df_pro['End'] = df_pro['End amino acid']\n",
    "df_pro['Protein Accession'] = df_pro['Parent Protein AC from input']\n",
    "df_pro = df_pro[['Protease Human/Mouse/Rat', 'Start', 'End', 'Protein Accession']]\n",
    "df_pro"
   ]
  },
  {
   "cell_type": "code",
   "execution_count": null,
   "metadata": {},
   "outputs": [],
   "source": [
    "df = pd.merge(df_inf, df_pro, on=['Protein Accession','Start','End'])\n",
    "df = df[['Protease Human/Mouse/Rat', 'Start', 'End', '#Feature', 'Peptide']]\n",
    "df = df.groupby(by= ['Protease Human/Mouse/Rat'], as_index=False).sum()\n",
    "df = df.sort_values(['#Feature'], ascending=False)\n",
    "df"
   ]
  },
  {
   "cell_type": "code",
   "execution_count": null,
   "metadata": {},
   "outputs": [],
   "source": [
    "filename='Proteasix_output.xlsx'\n",
    "sheetname='tot-inf'\n",
    "from openpyxl import load_workbook\n",
    "with pd.ExcelWriter(filename, engine='openpyxl') as writer:\n",
    "    writer.book = load_workbook(filename)\n",
    "    df.to_excel(writer, sheetname)"
   ]
  },
  {
   "cell_type": "markdown",
   "metadata": {},
   "source": [
    "### Finding Peptides from litterature"
   ]
  },
  {
   "cell_type": "code",
   "execution_count": null,
   "metadata": {},
   "outputs": [],
   "source": [
    "## Reading in all our peptides\n",
    "mapp='Alla'\n",
    "files = os.listdir(mapp)\n",
    "# gets all xlsx files in cwd\n",
    "files_xlsx = [f for f in files if f[-4:] == 'xlsx']\n",
    "df_all = pd.DataFrame()\n",
    "for file in files_xlsx:\n",
    "    data = pd.read_excel(mapp+ '/' +file, 'peptide')\n",
    "    data = data.loc[(data['#Feature'] >= 4)] # sorts out if feature<4\n",
    "    data['Peptide']=data['Peptide'].str.replace('[^a-zA-Z]','')\n",
    "    data = data.groupby(['Peptide','Accession'], as_index=False).sum()\n",
    "    df_all = df_all.append(data)  # appends all data"
   ]
  },
  {
   "cell_type": "code",
   "execution_count": null,
   "metadata": {},
   "outputs": [],
   "source": [
    "filename='refpep.xlsx'\n",
    "sheetname='Blad28'\n",
    "df_ref=pd.read_excel(filename, sheet_name=sheetname)\n",
    "df_ref.dropna(subset=['Peptide'], inplace=True)\n",
    "df_ref"
   ]
  },
  {
   "cell_type": "markdown",
   "metadata": {},
   "source": [
    "### Data from litterature was formated into a format compatible to our data "
   ]
  },
  {
   "cell_type": "code",
   "execution_count": null,
   "metadata": {},
   "outputs": [],
   "source": [
    "result=[]\n",
    "for seq1 in df_ref['Peptide']:\n",
    "    for seq2 in df_all['Peptide']:\n",
    "        if seq1 in seq2 and len(seq2)<(len(seq1)+6):\n",
    "            result.append((seq1,seq2))\n",
    "            \n",
    "result=pd.DataFrame(result)\n",
    "result.columns=['ref','pat']\n",
    "result.drop_duplicates('pat', inplace=True)\n",
    "with pd.ExcelWriter(filename, engine='openpyxl') as writer:\n",
    "    writer.book = load_workbook(filename)\n",
    "    result.to_excel(writer, sheetname , columns=['ref','pat'])\n",
    "result"
   ]
  },
  {
   "cell_type": "markdown",
   "metadata": {},
   "source": [
    "### Fasta konverterare"
   ]
  },
  {
   "cell_type": "code",
   "execution_count": null,
   "metadata": {},
   "outputs": [],
   "source": [
    "### vilken mapp vill du kolla i?\n",
    "mapp = 'peptide_sample_inf'\n",
    "## Skapar en lista över excelfilerna i mappen\n",
    "files = os.listdir(mapp)\n",
    "files_xls = [f for f in files if f[-3:] == 'lsx']\n",
    "files_xls\n",
    "## Läser in filerna 1 och 1 och appendar dom i df\n",
    "df = pd.DataFrame()\n",
    "for f in files_xls:\n",
    "    data = pd.read_excel(mapp + '/' + f)\n",
    "    ## sortera bort om feature<4\n",
    "    data = data.loc[(data['#Feature'] >= 4)]\n",
    "    ## ta bort duplikater\n",
    "    data['Peptide'] = data['Peptide'].str.replace('[^a-zA-Z]', '')\n",
    "    data= data.groupby(by=['Peptide'], as_index=False).sum()\n",
    "    df = df.append(data)\n",
    "df.reset_index(inplace=True, drop=True)\n",
    "## Vad för typ av fil hanterar du? (vilka kolummner önskas ha kvar)\n",
    "peptide = ['Peptide', '#Feature']\n",
    "protein = ['Protein Accession', 'Peptide', 'Mass', 'Length', '#Feature', '-10lgP', 'Start', 'End']\n",
    "## Formatera dataframen ändra [] för att byta formatering\n",
    "df = df[peptide]\n",
    "## Skapa column \"count\"\n",
    "df.insert(2,'count', 1)\n",
    "df= df.groupby(by=['Peptide'], as_index=False).mean()"
   ]
  },
  {
   "cell_type": "code",
   "execution_count": null,
   "metadata": {},
   "outputs": [],
   "source": [
    "df_amp= pd.DataFrame()\n",
    "df_amp['Peptide'] = df['Peptide']\n",
    "df_amp.reset_index(drop=True, inplace=True)\n",
    "df_amp.reset_index(inplace=True)\n",
    "df_amp['index'] = '>' + df_amp['index'].astype(str)\n",
    "df_amp['fasta'] = df_amp['index'] + os.linesep + df_amp['Peptide']\n",
    "df_amp = df_amp['fasta']\n",
    "df_amp.to_excel('amp-inf.xlsx')"
   ]
  },
  {
   "cell_type": "markdown",
   "metadata": {},
   "source": [
    "### Finding spectral count for litterature table"
   ]
  },
  {
   "cell_type": "code",
   "execution_count": null,
   "metadata": {},
   "outputs": [],
   "source": [
    "### vilken mapp vill du kolla i? INF\n",
    "## Skapar en lista över excelfilerna i mappen\n",
    "files = os.listdir('protein-peptide_sample_inf')\n",
    "files_xls = [f for f in files if f[-3:] == 'lsx']\n",
    "## Läser in filerna 1 och 1 och appendar dom i df_inf\n",
    "df_inf = pd.DataFrame()\n",
    "for f in files_xls:\n",
    "    data = pd.read_excel('protein-peptide_sample_inf' + '/' + f)\n",
    "    ## sortera bort om feature<4\n",
    "    data = data.loc[(data['#Feature'] >= 4)]\n",
    "    ## Tar bort allt ur kolummn som inte är bokstäver + ta bort upp och nedströms AA\n",
    "    data['Peptide']= data['Peptide'].str.replace('\\d+', '')\n",
    "    data['Peptide']= data['Peptide'].str.replace(r'\\(\\+\\.\\)', '')\n",
    "    data['Peptide']= data['Peptide'].apply(lambda x: x.split('.')[1] if x[1]=='.' else x.split('.')[0] if (x[1]!='.' and x[-2]=='.') else x)\n",
    "    data['count'] = 1\n",
    "    ## Summerar Peptides, sparar protein info\n",
    "    data = data.groupby(by=['Peptide', 'Protein Accession'], as_index=False).sum()\n",
    "    data['End'] = data['End']/ data['count']\n",
    "    data['Start'] = data['Start']/ data['count']\n",
    "    df_inf = df_inf.append(data)\n",
    "df_inf['count']=1\n",
    "df_inf = df_inf.groupby(by=['Peptide','Protein Accession'], as_index=False).sum()\n",
    "df_inf['End']=df_inf['End']/df_inf['count']\n",
    "df_inf['Start']=df_inf['Start']/df_inf['count']\n",
    "df_inf=df_inf.drop(columns='count')\n",
    "df_inf = df_inf [['Peptide','Protein Accession', 'Start','End', '#Feature']]    \n",
    "### vilken mapp vill du kolla i? ninf\n",
    "## Skapar en lista över excelfilerna i mappen\n",
    "files = os.listdir('protein-peptide_sample_ninf')\n",
    "files_xls = [f for f in files if f[-3:] == 'lsx']\n",
    "## Läser in filerna 1 och 1 och appendar dom i df_ninf\n",
    "df_ninf = pd.DataFrame()\n",
    "for f in files_xls:\n",
    "    data = pd.read_excel('protein-peptide_sample_ninf' + '/' + f)\n",
    "    ## sortera bort om feature<4\n",
    "    data = data.loc[(data['#Feature'] >= 4)]\n",
    "    ## Tar bort allt ur kolummn som inte är bokstäver + ta bort upp och nedströms AA\n",
    "    data['Peptide']= data['Peptide'].str.replace('\\d+', '')\n",
    "    data['Peptide']= data['Peptide'].str.replace(r'\\(\\+\\.\\)', '')\n",
    "    data['Peptide']= data['Peptide'].apply(lambda x: x.split('.')[1] if x[1]=='.' else x.split('.')[0] if (x[1]!='.' and x[-2]=='.') else x)\n",
    "    data['count'] = 1\n",
    "    ## Summerar Peptides, sparar protein ninfo\n",
    "    data = data.groupby(by=['Peptide', 'Protein Accession'], as_index=False).sum()\n",
    "    data['End'] = data['End']/ data['count']\n",
    "    data['Start'] = data['Start']/ data['count']\n",
    "    df_ninf = df_ninf.append(data)\n",
    "df_ninf['count']=1\n",
    "df_ninf = df_ninf.groupby(by=['Peptide','Protein Accession'], as_index=False).sum()\n",
    "df_ninf['End']=df_ninf['End']/df_ninf['count']\n",
    "df_ninf['Start']=df_ninf['Start']/df_ninf['count']\n",
    "df_ninf=df_ninf.drop(columns='count')\n",
    "df_ninf = df_ninf [['Peptide','Protein Accession', 'Start','End', '#Feature']]    \n",
    "### vilken mapp vill du kolla i? wf\n",
    "## Skapar en lista över excelfilerna i mappen\n",
    "files = os.listdir('protein-peptide_sample_wf')\n",
    "files_xls = [f for f in files if f[-3:] == 'lsx']\n",
    "## Läser in filerna 1 och 1 och appendar dom i df_wf\n",
    "df_wf = pd.DataFrame()\n",
    "for f in files_xls:\n",
    "    data = pd.read_excel('protein-peptide_sample_wf' + '/' + f)\n",
    "    ## sortera bort om feature<4\n",
    "    data = data.loc[(data['#Feature'] >= 4)]\n",
    "    ## Tar bort allt ur kolummn som inte är bokstäver + ta bort upp och nedströms AA\n",
    "    data['Peptide']= data['Peptide'].str.replace('\\d+', '')\n",
    "    data['Peptide']= data['Peptide'].str.replace(r'\\(\\+\\.\\)', '')\n",
    "    data['Peptide']= data['Peptide'].apply(lambda x: x.split('.')[1] if x[1]=='.' else x.split('.')[0] if (x[1]!='.' and x[-2]=='.') else x)\n",
    "    data['count'] = 1\n",
    "    ## Summerar Peptides, sparar protein wfo\n",
    "    data = data.groupby(by=['Peptide', 'Protein Accession'], as_index=False).sum()\n",
    "    data['End'] = data['End']/ data['count']\n",
    "    data['Start'] = data['Start']/ data['count']\n",
    "    df_wf = df_wf.append(data)\n",
    "df_wf = df_wf.groupby(by=['Peptide','Protein Accession'], as_index=False).sum()\n",
    "df_wf['End']=df_wf['End']/df_wf['count']\n",
    "df_wf['Start']=df_wf['Start']/df_wf['count']\n",
    "df_wf=df_wf.drop(columns='count')\n",
    "df_wf = df_wf [['Peptide','Protein Accession', 'Start','End', '#Feature']]"
   ]
  },
  {
   "cell_type": "code",
   "execution_count": null,
   "metadata": {},
   "outputs": [],
   "source": [
    "df_wf = df_wf.loc[(df_wf['sp|P68871|HBB_HUMAN'])]\n",
    "df_wf.loc[(df_wf['Peptide']== 'SFPTTKTYFPHFDLSHGSAQVK')]"
   ]
  },
  {
   "cell_type": "code",
   "execution_count": null,
   "metadata": {},
   "outputs": [],
   "source": [
    "Protein='sp|P69905|HBA_HUMAN'\n",
    "Start=33\n",
    "End=76\n",
    "df_wf_start=df_wf.loc[(df_wf['Start']>=Start)]\n",
    "df_wf_end=df_wf_start.loc[(df_wf_start['End']<=End)]\n",
    "df_wf_end=df_wf_end.loc[(df_wf_end['Protein Accession']==Protein)]\n",
    "print(\n",
    "df_wf_end['#Feature'].sum())\n",
    "df_wf_end"
   ]
  },
  {
   "cell_type": "markdown",
   "metadata": {},
   "source": [
    "### 5-way venn-diagram"
   ]
  },
  {
   "cell_type": "code",
   "execution_count": null,
   "metadata": {},
   "outputs": [],
   "source": [
    "## Läser in filerna 1 och 1 \n",
    "data1 = pd.read_excel('WF/peptide_WF1.xlsx')\n",
    "data1 = data1.loc[(data1['#Feature'] >= 4)]\n",
    "data1['Peptide']=data1['Peptide'].str.replace('[^a-zA-Z]','')\n",
    "data1 = data1.groupby(['Peptide', 'Accession'], as_index=False).sum()\n",
    "data1.drop_duplicates(['Peptide'], inplace=True)\n",
    "\n",
    "data2 = pd.read_excel('WF/peptide_WF2.xlsx')\n",
    "data2 = data2.loc[(data2['#Feature'] >= 4)]\n",
    "data2['Peptide']=data2['Peptide'].str.replace('[^a-zA-Z]','')\n",
    "data2 = data2.groupby(by=['Peptide'], as_index=False).sum()\n",
    "\n",
    "data3 = pd.read_excel('WF/peptide_WF3.xlsx')\n",
    "data3 = data3.loc[(data3['#Feature'] >= 4)]\n",
    "data3['Peptide']=data3['Peptide'].str.replace('[^a-zA-Z]','')\n",
    "data3 = data3.groupby(by=['Peptide'], as_index=False).sum()\n",
    "\n",
    "data4 = pd.read_excel('WF/peptide_WF4.xlsx')\n",
    "data4 = data4.loc[(data4['#Feature'] >= 4)]\n",
    "data4['Peptide']=data4['Peptide'].str.replace('[^a-zA-Z]','')\n",
    "data4 = data4.groupby(by=['Peptide'], as_index=False).sum()\n",
    "\n",
    "data5 = pd.read_excel('WF/peptide_WF5.xlsx')\n",
    "data5 = data5.loc[(data5['#Feature'] >= 4)]\n",
    "data5['Peptide']=data5['Peptide'].str.replace('[^a-zA-Z]','')\n",
    "data5 = data5.groupby(by=['Peptide'], as_index=False).sum()\n",
    "data1"
   ]
  },
  {
   "cell_type": "code",
   "execution_count": null,
   "metadata": {},
   "outputs": [],
   "source": [
    "data1['Peptide'].to_clipboard(sep='\\n', index=False)\n",
    "len(set(data1['Peptide']))"
   ]
  },
  {
   "cell_type": "code",
   "execution_count": null,
   "metadata": {},
   "outputs": [],
   "source": []
  },
  {
   "cell_type": "code",
   "execution_count": null,
   "metadata": {},
   "outputs": [],
   "source": []
  }
 ],
 "metadata": {
  "kernelspec": {
   "display_name": "Python 3",
   "language": "python",
   "name": "python3"
  },
  "language_info": {
   "codemirror_mode": {
    "name": "ipython",
    "version": 3
   },
   "file_extension": ".py",
   "mimetype": "text/x-python",
   "name": "python",
   "nbconvert_exporter": "python",
   "pygments_lexer": "ipython3",
   "version": "3.8.3"
  }
 },
 "nbformat": 4,
 "nbformat_minor": 4
}
